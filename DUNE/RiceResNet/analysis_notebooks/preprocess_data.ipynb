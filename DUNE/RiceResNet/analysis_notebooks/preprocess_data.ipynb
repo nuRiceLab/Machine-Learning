{
 "cells": [
  {
   "cell_type": "code",
   "execution_count": 25,
   "id": "e26a7200-8667-4d08-862e-4cb167480616",
   "metadata": {},
   "outputs": [],
   "source": [
    "import numpy as np\n",
    "import zlib\n",
    "import glob\n",
    "import h5py\n",
    "import pickle\n",
    "import tensorflow as tf\n",
    "from tensorflow import keras\n",
    "import pandas as pd\n",
    "from generator_class_multi_1226 import DataGenerator\n",
    "from tqdm import tqdm\n",
    "import matplotlib.pyplot as plt"
   ]
  },
  {
   "cell_type": "code",
   "execution_count": 3,
   "id": "28302cb6-8d7d-4857-9032-55b53b07dba0",
   "metadata": {},
   "outputs": [],
   "source": [
    "from pytictoc import TicToc"
   ]
  },
  {
   "cell_type": "code",
   "execution_count": 2,
   "id": "be4101eb-0a71-47b4-87c0-3dec8745b29a",
   "metadata": {
    "scrolled": true
   },
   "outputs": [],
   "source": [
    "pixel_map_dir =  '/home/sophiaf/pixel_maps_val/pixel_data_subset/*.info'\n",
    "_files = []\n",
    "_files.extend(glob.glob(pixel_map_dir))"
   ]
  },
  {
   "cell_type": "code",
   "execution_count": 4,
   "id": "86f2dee6-4983-4ec1-b6b7-6ff74e6ef023",
   "metadata": {},
   "outputs": [],
   "source": [
    "def load_data(file):\n",
    "    '''\n",
    "    If you already have the urls for the proper info loaded up in a pickle use this. \n",
    "    '''\n",
    "    with open(file, 'rb') as f:\n",
    "        mynewlist = pickle.load(f)\n",
    "        f.close()\n",
    "    return mynewlist"
   ]
  },
  {
   "cell_type": "code",
   "execution_count": 5,
   "id": "2e8a5edf-92c6-41ea-988a-a88048cd5ab7",
   "metadata": {
    "jupyter": {
     "source_hidden": true
    }
   },
   "outputs": [],
   "source": [
    "class DataGenerator2(keras.utils.Sequence):\n",
    "    '''\n",
    "    going to assume you've already preselected the energy ROI. \n",
    "    can run get_data if you haven't yet and save to pickle file the results. \n",
    "    '''\n",
    "    \n",
    "    def __init__(self, df, batch_size, dim, n_channels):\n",
    "        # self.files = files\n",
    "        self.df = df\n",
    "        self.batch_size = batch_size\n",
    "        self.dim = dim\n",
    "        self.n_channels = n_channels\n",
    "        self.t = TicToc()\n",
    "\n",
    "    # __normalize__ method removed\n",
    "    \n",
    "    def get_info(self, file):\n",
    "        with open(file, 'rb') as info_file:\n",
    "            info = info_file.readlines()\n",
    "            truth = {}\n",
    "            truth['NuPDG'] = int(info[7].strip())\n",
    "            truth['NuEnergy'] = float(info[1])\n",
    "            truth['LepEnergy'] = float(info[2])\n",
    "            truth['Interaction'] = int(info[0].strip()) % 4\n",
    "            truth['NProton'] = int(info[8].strip())\n",
    "            truth['NPion'] = int(info[9].strip())\n",
    "            truth['NPizero'] = int(info[10].strip())  \n",
    "            truth['NNeutron'] = int(info[11].strip())\n",
    "            truth['is_antineutrino'] = int(int(info[7].strip())<0)\n",
    "            truth['image_path'] = file[:-5] + '.gz'\n",
    "\n",
    "            # extra labels for ML classification\n",
    "            pdg = np.abs(truth['NuPDG'])\n",
    "            if pdg == 1: truth['flavour'] = 0 #NC\n",
    "            elif pdg == 12: truth['flavour'] = 1 #CC nu_e\n",
    "            elif pdg == 14: truth['flavour'] = 2 #CC nu_mu\n",
    "            elif pdg == 16: truth['flavour'] = 3 #CC nu_tau (not included in our E range but still here) \n",
    "            truth['protons'] = np.clip(truth['NProton'], None, 3) # 0,1,2,or N Protons \n",
    "            truth['pions'] = np.clip(truth['NPion'], None, 3) # 0,1,2,or N Pions \n",
    "            truth['pizeros'] = np.clip(truth['NPizero'], None, 3) # 0,1,2,or N Pizeros\n",
    "            truth['neutrons'] = np.clip(truth['NNeutron'], None, 3) # 0,1,2,or N Neutrons \n",
    "            \n",
    "        return truth\n",
    "    \n",
    "    def get_dataframe(self, files):\n",
    "        data_labels = {}\n",
    "        for i, file in enumerate(tqdm(files)):\n",
    "            truth_info = self.get_info(file)\n",
    "            if i==0:\n",
    "                for key in truth_info.keys():\n",
    "                    data_labels[key] = [truth_info[key]]\n",
    "            else: \n",
    "                for key in truth_info.keys():\n",
    "                    data_labels[key].append(truth_info[key])\n",
    "        df = pd.DataFrame.from_dict(data_labels)\n",
    "        return df\n",
    "\n",
    "    def save_dataframe(self, df, path_to_df):\n",
    "        pd.to_pickle(df, filepath_or_buffer=path_to_df)\n",
    "\n",
    "    def load_dataframe(self, path_to_df, idx=None):\n",
    "        df = pd.read_pickle(path_to_df)\n",
    "        return df \n",
    "        \n",
    "    def get_pixels_map(self, file_name):\n",
    "        cells = self.dim[0]\n",
    "        planes = self.dim[1]\n",
    "        views = self.n_channels\n",
    "        print('Opening file')\n",
    "        self.t.tic()\n",
    "        f = open(file_name, 'rb')\n",
    "        self.t.toc()\n",
    "        print('Reading file')\n",
    "        self.t.tic()\n",
    "        file = f.read()\n",
    "        self.t.toc()\n",
    "        print('Decompressing maps')\n",
    "        self.t.tic()\n",
    "        pixels_map = np.frombuffer(zlib.decompress(file), dtype=np.uint8)\n",
    "        self.t.toc()\n",
    "        print('Reshaping maps')\n",
    "        self.t.tic()\n",
    "        f.close()\n",
    "        pixels_map = pixels_map.reshape(views, planes, cells)\n",
    "        self.t.toc()\n",
    "        return pixels_map\n",
    "    \n",
    "    def get_data_and_labels(self, idxs):\n",
    "        data_subset = self.df.iloc[idxs]\n",
    "        # data_subset = self.df.iloc[idxs[0]:idxs[1]]\n",
    "        labels = ['flavour', 'protons', 'pions', 'pizeros', 'neutrons', 'is_antineutrino']\n",
    "        data_label_dict = data_subset[labels]\n",
    "        data_maps = []\n",
    "        \n",
    "        for file in data_subset['image_path']:\n",
    "            data_maps.append(self.get_pixels_map(file))\n",
    "        \n",
    "        return data_maps, data_label_dict\n",
    "    \n",
    "    def __len__(self):\n",
    "        return int(np.floor(len(self.df) / self.batch_size))\n",
    "    \n",
    "    def __getitem__(self, index):\n",
    "        upper_point = min((index + 1) * self.batch_size, len(self.df))\n",
    "        indexes = list(range(index * self.batch_size, upper_point))\n",
    "        # indexes = [index*self.batch_size, upper_point]\n",
    "        # files_temp = [self.files[i] for i in indexes]\n",
    "\n",
    "        maps_temp, labels_temp = self.get_data_and_labels(indexes)\n",
    "        maps_z_view = np.asarray(maps_temp)[:, 2:]\n",
    "        maps_v_view = np.asarray(maps_temp)[:, 1:2]\n",
    "        maps_u_view = np.asarray(maps_temp)[:, 0:1]\n",
    "\n",
    "        train_temp = []\n",
    "        if self.n_channels == 1:\n",
    "            for i in range(len(maps_z_view)):\n",
    "                train_temp.append(maps_z_view[i][0])\n",
    "\n",
    "        elif self.n_channels == 3:\n",
    "            for i in range(len(maps_z_view)):\n",
    "                train_temp.append(np.dstack((maps_u_view[i][0], maps_v_view[i][0], maps_z_view[i][0])))\n",
    "        train_temp = np.array(train_temp).reshape([self.batch_size, self.dim[0], self.dim[1], self.n_channels])\n",
    "        \n",
    "        # labels_temp is a dictionary containing multiple output labels\n",
    "        X, y = self.__data_generation(train_temp, labels_temp)\n",
    "        return X, y\n",
    "    \n",
    "    def on_epoch_end(self):\n",
    "        'Updates indexes after each epoch'\n",
    "        self.indexes = np.arange(len(self.df))\n",
    "    \n",
    "    def __data_generation(self, train_temp, labels_temp):\n",
    "        # Convert the labels_temp dictionary to a list of tensors\n",
    "        y_list = [labels_temp[key] for key in labels_temp.keys()]\n",
    "        return train_temp, y_list"
   ]
  },
  {
   "cell_type": "code",
   "execution_count": 5,
   "id": "8423cab8-d091-4afa-8b15-d665f4f62cca",
   "metadata": {},
   "outputs": [],
   "source": [
    "import concurrent.futures\n"
   ]
  },
  {
   "cell_type": "code",
   "execution_count": 22,
   "id": "1900374d-fb18-454e-8462-b63de4082215",
   "metadata": {},
   "outputs": [],
   "source": [
    "class DataGenerator2(keras.utils.Sequence):\n",
    "    '''\n",
    "    going to assume you've already preselected the energy ROI. \n",
    "    can run get_data if you haven't yet and save to pickle file the results. \n",
    "    '''\n",
    "    \n",
    "    def __init__(self, df, batch_size, dim, n_channels):\n",
    "        # self.files = files\n",
    "        self.df = df\n",
    "        self.batch_size = batch_size\n",
    "        self.dim = dim\n",
    "        self.n_channels = n_channels\n",
    "        # self.t = TicToc()\n",
    "\n",
    "    # __normalize__ method removed\n",
    "    \n",
    "    def get_info(self, file):\n",
    "        with open(file, 'rb') as info_file:\n",
    "            info = info_file.readlines()\n",
    "            truth = {}\n",
    "            truth['NuPDG'] = int(info[7].strip())\n",
    "            truth['NuEnergy'] = float(info[1])\n",
    "            truth['LepEnergy'] = float(info[2])\n",
    "            truth['Interaction'] = int(info[0].strip()) % 4 # if flavour >0: then interaction 0: 1: 2: 3: if flavour==0: interaction 1=NC. \n",
    "            truth['NProton'] = int(info[8].strip())\n",
    "            truth['NPion'] = int(info[9].strip())\n",
    "            truth['NPizero'] = int(info[10].strip())  \n",
    "            truth['NNeutron'] = int(info[11].strip())\n",
    "            truth['is_antineutrino'] = int(int(info[7].strip())<0)\n",
    "            truth['LepAngle'] = float(info[15].strip())\n",
    "            truth['image_path'] = file[:-5] + '.gz'\n",
    "            \n",
    "            truth['process'] = int(info[0].strip()) # https://github.com/DUNE/dunereco/blob/3430ba242903367ef06a8e37ff68119b9ef23656/dunereco/CVN/func/InteractionType.h#L16\n",
    "            \n",
    "            # extra labels for ML classification\n",
    "            pdg = np.abs(truth['NuPDG'])\n",
    "            if pdg == 1: truth['flavour'] = 0 #NC\n",
    "            elif pdg == 12: truth['flavour'] = 1 #CC nu_e\n",
    "            elif pdg == 14: truth['flavour'] = 2 #CC nu_mu\n",
    "            elif pdg == 16: truth['flavour'] = 3 #CC nu_tau (not included in our E range but still here) \n",
    "            truth['protons'] = np.clip(truth['NProton'], None, 3) # 0,1,2,or N Protons \n",
    "            truth['pions'] = np.clip(truth['NPion'], None, 3) # 0,1,2,or N Pions \n",
    "            truth['pizeros'] = np.clip(truth['NPizero'], None, 3) # 0,1,2,or N Pizeros\n",
    "            truth['neutrons'] = np.clip(truth['NNeutron'], None, 3) # 0,1,2,or N Neutrons \n",
    "            \n",
    "        return truth\n",
    "    \n",
    "    def get_dataframe(self, files):\n",
    "        data_labels = {}\n",
    "        for i, file in enumerate(tqdm(files)):\n",
    "            truth_info = self.get_info(file)\n",
    "            # if \n",
    "            if i==0:\n",
    "                for key in truth_info.keys():\n",
    "                    data_labels[key] = [truth_info[key]]\n",
    "            else: \n",
    "                for key in truth_info.keys():\n",
    "                    data_labels[key].append(truth_info[key])\n",
    "        df = pd.DataFrame.from_dict(data_labels)\n",
    "        return df\n",
    "\n",
    "    def save_dataframe(self, df, path_to_df):\n",
    "        pd.to_pickle(df, filepath_or_buffer=path_to_df)\n",
    "\n",
    "    def load_dataframe(self, path_to_df, idx=None):\n",
    "        df = pd.read_pickle(path_to_df)\n",
    "        return df \n",
    "        \n",
    "    def get_pixels_map(self, file_name):\n",
    "        cells = self.dim[0]\n",
    "        planes = self.dim[1]\n",
    "        views = self.n_channels\n",
    "        # with open(file_name, 'rb') as f:\n",
    "        f = open(file_name, 'rb')\n",
    "        file = f.read()\n",
    "        pixels_map = np.frombuffer(zlib.decompress(file), dtype=np.uint8)\n",
    "        f.close()\n",
    "        pixels_map = pixels_map.reshape(views, planes, cells)\n",
    "        return pixels_map\n",
    "    \n",
    "    def get_data_and_labels(self, idxs):\n",
    "        data_subset = self.df.iloc[idxs]\n",
    "        # data_subset = self.df.iloc[idxs[0]:idxs[1]]\n",
    "        labels = ['flavour', 'protons', 'pions', 'pizeros', 'neutrons', 'is_antineutrino']\n",
    "        data_label_dict = data_subset[labels]\n",
    "        data_maps = []\n",
    "        \n",
    "        # for file in data_subset['image_path']:\n",
    "        #     data_maps.append(self.get_pixels_map(file))\n",
    "        \n",
    "        ## Use ThreadPoolExecutor for parallel file reading\n",
    "        with concurrent.futures.ThreadPoolExecutor() as executor:\n",
    "            # Map the file reading function to each file in parallel\n",
    "            data_maps = list(executor.map(self.get_pixels_map, data_subset['image_path']))\n",
    "        return data_maps, data_label_dict\n",
    "\n",
    "    \n",
    "    def __len__(self):\n",
    "        return int(np.floor(len(self.df) / self.batch_size))\n",
    "    \n",
    "    def __getitem__(self, index):\n",
    "        upper_point = min((index + 1) * self.batch_size, len(self.df))\n",
    "        indexes = list(range(index * self.batch_size, upper_point))\n",
    "        # indexes = [index*self.batch_size, upper_point]\n",
    "        # files_temp = [self.files[i] for i in indexes]\n",
    "\n",
    "        maps_temp, labels_temp = self.get_data_and_labels(indexes)\n",
    "        maps_z_view = np.asarray(maps_temp)[:, 2:]\n",
    "        maps_v_view = np.asarray(maps_temp)[:, 1:2]\n",
    "        maps_u_view = np.asarray(maps_temp)[:, 0:1]\n",
    "\n",
    "        train_temp = []\n",
    "        if self.n_channels == 1:\n",
    "            for i in range(len(maps_z_view)):\n",
    "                train_temp.append(maps_z_view[i][0])\n",
    "\n",
    "        elif self.n_channels == 3:\n",
    "            for i in range(len(maps_z_view)):\n",
    "                train_temp.append(np.dstack((maps_u_view[i][0], maps_v_view[i][0], maps_z_view[i][0])))\n",
    "        train_temp = np.array(train_temp).reshape([self.batch_size, self.dim[0], self.dim[1], self.n_channels])\n",
    "        \n",
    "        # labels_temp is a dictionary containing multiple output labels\n",
    "        X, y = self.__data_generation(train_temp, labels_temp)\n",
    "        return X, y\n",
    "    \n",
    "    def on_epoch_end(self):\n",
    "        'Updates indexes after each epoch'\n",
    "        self.indexes = np.arange(len(self.df))\n",
    "    \n",
    "    def __data_generation(self, train_temp, labels_temp):\n",
    "        # Convert the labels_temp dictionary to a list of tensors\n",
    "        y_list = [labels_temp[key] for key in labels_temp.keys()]\n",
    "        return train_temp, y_list"
   ]
  },
  {
   "cell_type": "markdown",
   "id": "2bd2eb99-db3c-4e31-b36a-a23a564f98e3",
   "metadata": {},
   "source": [
    "## preprocessing"
   ]
  },
  {
   "cell_type": "markdown",
   "id": "6fc36fd2-84c4-4e33-9fc7-a3d72d167131",
   "metadata": {},
   "source": [
    "### Turning pixel file pointers to scratch path "
   ]
  },
  {
   "cell_type": "code",
   "execution_count": 12,
   "id": "c8f0b922-f9bc-453a-8684-9db138d90d20",
   "metadata": {},
   "outputs": [],
   "source": [
    "listname = 'urllist_0_1_2_10_11_12'\n",
    "path_to_df = '/home/sophiaf/pixel_maps_val/preprocessed_filelists/'+listname+'_df.pkl'\n",
    "path_to_test_df = '/home/sophiaf/pixel_maps_val/preprocessed_filelists/'+listname+'_df_testset.pkl'\n",
    "df1 = pd.read_pickle(path_to_df)\n",
    "df1_test = pd.read_pickle(path_to_test_df)"
   ]
  },
  {
   "cell_type": "code",
   "execution_count": 13,
   "id": "8949e167-a08b-42c6-abde-78bb8383f489",
   "metadata": {},
   "outputs": [],
   "source": [
    "df1['image_path'] = df1['image_path'].str.replace('/home/sophiaf/pixel_maps_val/', '/scratch/7DayLifetime/sophiaf/')\n",
    "df1_test['image_path'] = df1_test['image_path'].str.replace('/home/sophiaf/pixel_maps_val/', '/scratch/7DayLifetime/sophiaf/')\n"
   ]
  },
  {
   "cell_type": "code",
   "execution_count": 14,
   "id": "038a443d-d93b-4ac2-88bf-e00e863b413e",
   "metadata": {},
   "outputs": [],
   "source": [
    "pd.to_pickle(df1_test, '/home/sophiaf/pixel_maps_val/preprocessed_filelists/scratch_'+listname+'_df_testset.pkl')\n",
    "pd.to_pickle(df1, '/home/sophiaf/pixel_maps_val/preprocessed_filelists/scratch_'+listname+'_df.pkl')"
   ]
  },
  {
   "cell_type": "code",
   "execution_count": null,
   "id": "f4009fe5-e2b4-4348-a3e2-1c0615c9cb00",
   "metadata": {},
   "outputs": [],
   "source": []
  },
  {
   "cell_type": "code",
   "execution_count": null,
   "id": "21dcc10d-b63c-4722-bb97-fca8df1fcfd5",
   "metadata": {},
   "outputs": [],
   "source": []
  },
  {
   "cell_type": "markdown",
   "id": "873eba92-376a-4967-87fa-40741f3e7c25",
   "metadata": {},
   "source": [
    "### Making dfs  "
   ]
  },
  {
   "cell_type": "code",
   "execution_count": 11,
   "id": "30f7b4cb-ca5d-4bf1-95dd-517c06e8916f",
   "metadata": {},
   "outputs": [],
   "source": [
    "listname = 'urllist_1' \n",
    "# data = load_data('/home/sophiaf/pixel_maps_val/preprocessed_filelists/'+listname+'.pkl')\n",
    "testdata = load_data('/home/sophiaf/pixel_maps_val/preprocessed_filelists/'+listname+'_testset.pkl')\n",
    "_files = testdata # bug\n",
    "generator = DataGenerator2(_files,64,(200,200),3)\n"
   ]
  },
  {
   "cell_type": "code",
   "execution_count": null,
   "id": "386d3ecf-80cd-4a12-8250-3d5d1c324a31",
   "metadata": {},
   "outputs": [],
   "source": [
    "path_to_df = '/home/sophiaf/pixel_maps_val/preprocessed_filelists/'+listname+'_df.pkl'\n",
    "path_to_test_df = '/home/sophiaf/pixel_maps_val/preprocessed_filelists/'+listname+'_df_testset.pkl'\n",
    "hi = generator.get_dataframe(data)\n",
    "hi_test = generator.get_dataframe(testdata)"
   ]
  },
  {
   "cell_type": "code",
   "execution_count": null,
   "id": "4a52198d-e7d4-452e-806d-a96e58995592",
   "metadata": {},
   "outputs": [],
   "source": []
  },
  {
   "cell_type": "code",
   "execution_count": null,
   "id": "6dc6169d-f199-463c-b64c-286f47d55daa",
   "metadata": {
    "scrolled": true
   },
   "outputs": [
    {
     "name": "stderr",
     "output_type": "stream",
     "text": [
      "  4%|▍         | 5505/142324 [03:16<1:25:33, 26.65it/s] "
     ]
    }
   ],
   "source": [
    "listname = 'urllist_0_1_2_10_11_12'\n",
    "\n",
    "data = load_data('/home/sophiaf/pixel_maps_val/preprocessed_filelists/'+listname+'.pkl')\n",
    "testdata = load_data('/home/sophiaf/pixel_maps_val/preprocessed_filelists/'+listname+'_testset.pkl')\n",
    "data_updated = [path.replace('/home/sophiaf/pixel_maps_val/', '/scratch/7DayLifetime/sophiaf/') for path in data]\n",
    "testdata_updated = [path.replace('/home/sophiaf/pixel_maps_val/', '/scratch/7DayLifetime/sophiaf/') for path in testdata]\n",
    "\n",
    "_files = data_updated # bug\n",
    "generator = DataGenerator2(_files,64,(200,200),3)\n",
    "\n",
    "path_to_test_df = '/home/sophiaf/pixel_maps_val/preprocessed_filelists/'+listname+'_b_df_testset.pkl'\n",
    "hi_test = generator.get_dataframe(testdata_updated)\n",
    "generator.save_dataframe(hi_test, path_to_test_df)\n",
    "\n",
    "path_to_df = '/home/sophiaf/pixel_maps_val/preprocessed_filelists/'+listname+'_b_df.pkl'\n",
    "hi = generator.get_dataframe(data_updated)\n",
    "generator.save_dataframe(hi, path_to_df)"
   ]
  },
  {
   "cell_type": "code",
   "execution_count": 7,
   "id": "8ab62078-ca3a-44eb-b321-e9ef8eff1cc4",
   "metadata": {},
   "outputs": [
    {
     "data": {
      "text/plain": [
       "1"
      ]
     },
     "execution_count": 7,
     "metadata": {},
     "output_type": "execute_result"
    }
   ],
   "source": [
    "1"
   ]
  },
  {
   "cell_type": "code",
   "execution_count": 81,
   "id": "8fba7b5a-97c7-4ba4-863a-6bdda2507c25",
   "metadata": {},
   "outputs": [
    {
     "name": "stderr",
     "output_type": "stream",
     "text": [
      "100%|██████████| 79766/79766 [06:05<00:00, 218.06it/s]\n",
      "100%|██████████| 8863/8863 [00:38<00:00, 227.97it/s]\n"
     ]
    }
   ],
   "source": [
    "path_to_df = '/home/sophiaf/pixel_maps_val/preprocessed_filelists/'+listname+'_df.pkl'\n",
    "path_to_test_df = '/home/sophiaf/pixel_maps_val/preprocessed_filelists/'+listname+'_df_testset.pkl'\n",
    "hi = generator.get_dataframe(data)\n",
    "hi_test = generator.get_dataframe(testdata)"
   ]
  },
  {
   "cell_type": "code",
   "execution_count": 82,
   "id": "a4c05a7d-768e-457c-b865-e1745807e495",
   "metadata": {},
   "outputs": [],
   "source": [
    "generator.save_dataframe(hi, path_to_df)\n",
    "generator.save_dataframe(hi_test, path_to_test_df)\n"
   ]
  },
  {
   "cell_type": "code",
   "execution_count": 85,
   "id": "6aae23d2-2a8a-4d7a-a999-f0ba31f0833b",
   "metadata": {},
   "outputs": [],
   "source": [
    "listname = 'urllist_2' \n",
    "data = load_data('/home/sophiaf/pixel_maps_val/preprocessed_filelists/'+listname+'.pkl')\n",
    "testdata = load_data('/home/sophiaf/pixel_maps_val/preprocessed_filelists/'+listname+'_testset.pkl')\n",
    "_files = data # bug\n",
    "# generator = DataGenerator2(_files,64,(200,200),3)\n"
   ]
  },
  {
   "cell_type": "code",
   "execution_count": 86,
   "id": "22a40dbf-80ec-42c3-ac3f-3ec3cbc366bc",
   "metadata": {
    "scrolled": true
   },
   "outputs": [
    {
     "name": "stderr",
     "output_type": "stream",
     "text": [
      "100%|██████████| 322642/322642 [40:49<00:00, 131.72it/s] \n",
      "100%|██████████| 35850/35850 [03:01<00:00, 197.80it/s]\n"
     ]
    }
   ],
   "source": [
    "path_to_df = '/home/sophiaf/pixel_maps_val/preprocessed_filelists/'+listname+'_df.pkl'\n",
    "path_to_test_df = '/home/sophiaf/pixel_maps_val/preprocessed_filelists/'+listname+'_df_testset.pkl'\n",
    "hi = generator.get_dataframe(data)\n",
    "hi_test = generator.get_dataframe(testdata)"
   ]
  },
  {
   "cell_type": "code",
   "execution_count": 87,
   "id": "8f9bfee9-41c8-4936-974b-76b47effa596",
   "metadata": {},
   "outputs": [],
   "source": [
    "generator.save_dataframe(hi, path_to_df)\n",
    "generator.save_dataframe(hi_test, path_to_test_df)"
   ]
  },
  {
   "cell_type": "code",
   "execution_count": 89,
   "id": "d7556b31-a8a3-419a-885e-95a6ceedef93",
   "metadata": {},
   "outputs": [],
   "source": [
    "list_of_files = ['urllist_0', 'urllist_1', 'urllist_2']\n",
    "\n",
    "list_of_locs = ['/home/sophiaf/pixel_maps_val/preprocessed_filelists/'+listname+'_df.pkl' for listname in list_of_files]\n",
    "df_0_1_2 = pd.concat(pd.read_pickle(f) for f in list_of_locs)\n",
    "pd.to_pickle(df_0_1_2, filepath_or_buffer='/home/sophiaf/pixel_maps_val/preprocessed_filelists/urllist_0_1_2_df.pkl')\n",
    "\n",
    "list_of_test_locs = ['/home/sophiaf/pixel_maps_val/preprocessed_filelists/'+listname+'_df_testset.pkl' for listname in list_of_files]\n",
    "df_0_1_2_testset = pd.concat(pd.read_pickle(f) for f in list_of_test_locs)\n",
    "pd.to_pickle(df_0_1_2_testset, filepath_or_buffer='/home/sophiaf/pixel_maps_val/preprocessed_filelists/urllist_0_1_2_df_testset.pkl')\n",
    "\n"
   ]
  },
  {
   "cell_type": "code",
   "execution_count": 5,
   "id": "1a70fd34-8b4d-4ac2-a319-f0009d7162dc",
   "metadata": {},
   "outputs": [],
   "source": [
    "listname = 'urllist_10_12' \n",
    "data = load_data('/home/sophiaf/pixel_maps_val/preprocessed_filelists/'+listname+'.pkl')\n",
    "testdata = load_data('/home/sophiaf/pixel_maps_val/preprocessed_filelists/'+listname+'_testset.pkl')\n",
    "_files = data # bug\n",
    "generator = DataGenerator2(_files,64,(200,200),3)\n"
   ]
  },
  {
   "cell_type": "code",
   "execution_count": 5,
   "id": "d8416a7c-aef5-4d06-b09a-222972aad149",
   "metadata": {},
   "outputs": [
    {
     "name": "stderr",
     "output_type": "stream",
     "text": [
      " 37%|███▋      | 268782/723833 [2:50:49<8:02:43, 15.71it/s] IOPub message rate exceeded.\n",
      "The Jupyter server will temporarily stop sending output\n",
      "to the client in order to avoid crashing it.\n",
      "To change this limit, set the config variable\n",
      "`--ServerApp.iopub_msg_rate_limit`.\n",
      "\n",
      "Current values:\n",
      "ServerApp.iopub_msg_rate_limit=1000.0 (msgs/sec)\n",
      "ServerApp.rate_limit_window=3.0 (secs)\n",
      "\n",
      " 84%|████████▍ | 607865/723833 [8:48:32<3:29:50,  9.21it/s]IOPub message rate exceeded.\n",
      "The Jupyter server will temporarily stop sending output\n",
      "to the client in order to avoid crashing it.\n",
      "To change this limit, set the config variable\n",
      "`--ServerApp.iopub_msg_rate_limit`.\n",
      "\n",
      "Current values:\n",
      "ServerApp.iopub_msg_rate_limit=1000.0 (msgs/sec)\n",
      "ServerApp.rate_limit_window=3.0 (secs)\n",
      "\n"
     ]
    }
   ],
   "source": [
    "path_to_df = '/home/sophiaf/pixel_maps_val/preprocessed_filelists/'+listname+'_df.pkl'\n",
    "hi = generator.get_dataframe(data)\n",
    "generator.save_dataframe(hi, path_to_df)"
   ]
  },
  {
   "cell_type": "code",
   "execution_count": null,
   "id": "79831da9-dd5b-4281-a72c-304fa2aaf057",
   "metadata": {},
   "outputs": [
    {
     "name": "stderr",
     "output_type": "stream",
     "text": [
      "  3%|▎         | 2785/80426 [02:25<50:30, 25.62it/s]  "
     ]
    }
   ],
   "source": [
    "path_to_test_df = '/home/sophiaf/pixel_maps_val/preprocessed_filelists/'+listname+'_df_testset.pkl'\n",
    "hi_test = generator.get_dataframe(testdata)\n",
    "generator.save_dataframe(hi_test, path_to_test_df)"
   ]
  },
  {
   "cell_type": "code",
   "execution_count": 11,
   "id": "6e8dee4c-9d22-40f5-8bf7-58001223a455",
   "metadata": {},
   "outputs": [],
   "source": [
    "list_of_files = ['urllist_0_1_2', 'urllist_10_12']\n",
    "\n",
    "list_of_locs = ['/home/sophiaf/pixel_maps_val/preprocessed_filelists/'+listname+'_df.pkl' for listname in list_of_files]\n",
    "df_0_1_2 = pd.concat(pd.read_pickle(f) for f in list_of_locs)\n",
    "pd.to_pickle(df_0_1_2, filepath_or_buffer='/home/sophiaf/pixel_maps_val/preprocessed_filelists/urllist_0_1_2_10_11_12_df.pkl')\n",
    "\n",
    "list_of_test_locs = ['/home/sophiaf/pixel_maps_val/preprocessed_filelists/'+listname+'_df_testset.pkl' for listname in list_of_files]\n",
    "df_0_1_2_testset = pd.concat(pd.read_pickle(f) for f in list_of_test_locs)\n",
    "pd.to_pickle(df_0_1_2_testset, filepath_or_buffer='/home/sophiaf/pixel_maps_val/preprocessed_filelists/urllist_0_1_2_10_11_12_df_testset.pkl')"
   ]
  },
  {
   "cell_type": "code",
   "execution_count": null,
   "id": "0cef2396-1663-4771-9d44-603969eb09b9",
   "metadata": {},
   "outputs": [],
   "source": []
  },
  {
   "cell_type": "code",
   "execution_count": null,
   "id": "682ad24f-7821-4c89-b63f-7772fafcaf9a",
   "metadata": {},
   "outputs": [],
   "source": []
  },
  {
   "cell_type": "markdown",
   "id": "c803f9a1-d1d7-479d-b822-a5770ac0f0c4",
   "metadata": {},
   "source": [
    "## testing"
   ]
  },
  {
   "cell_type": "code",
   "execution_count": 43,
   "id": "9f53f239-4470-4591-9a6b-9c43855a4d4a",
   "metadata": {},
   "outputs": [],
   "source": [
    "path_to_df = '/home/sophiaf/pixel_maps_val/preprocessed_filelists/urllist_2_df.pkl'\n",
    "df = pd.read_pickle(path_to_df)\n",
    "generator = DataGenerator2(df, 64, (200,200), 3)"
   ]
  },
  {
   "cell_type": "code",
   "execution_count": 45,
   "id": "fd108966-5a12-4099-9c08-d3e7125bbde5",
   "metadata": {},
   "outputs": [],
   "source": [
    "import os\n",
    "import shutil\n",
    "\n",
    "def split_files(input_dir, output_dir, batch_size):\n",
    "    if not os.path.exists(output_dir):\n",
    "        os.makedirs(output_dir)\n",
    "\n",
    "    file_list = sorted(os.listdir(input_dir))\n",
    "    num_batches = len(file_list) // batch_size\n",
    "\n",
    "    for i in range(num_batches):\n",
    "        start_idx = i * batch_size\n",
    "        end_idx = (i + 1) * batch_size\n",
    "        subset_dir = os.path.join(output_dir, f'subset_{i + 1}')\n",
    "\n",
    "        if not os.path.exists(subset_dir):\n",
    "            os.makedirs(subset_dir)\n",
    "\n",
    "        for file_name in file_list[start_idx:end_idx]:\n",
    "            if file_name.endswith('.gz'):\n",
    "                source_path = os.path.join(input_dir, file_name)\n",
    "                dest_path = os.path.join(subset_dir, file_name)\n",
    "                shutil.move(source_path, dest_path)"
   ]
  },
  {
   "cell_type": "code",
   "execution_count": 46,
   "id": "530d7754-0892-461b-8dbd-b7fb70e6babb",
   "metadata": {},
   "outputs": [],
   "source": [
    "listname = 'subset' \n",
    "data = load_data('/home/sophiaf/pixel_maps_val/preprocessed_filelists/'+listname+'.pkl')\n",
    "testdata = load_data('/home/sophiaf/pixel_maps_val/preprocessed_filelists/'+listname+'_testset.pkl')\n",
    "_files = data # bug\n",
    "# generator = DataGenerator2(_files,64,(200,200),3)"
   ]
  },
  {
   "cell_type": "code",
   "execution_count": 47,
   "id": "1442b857-4ac7-456d-847d-5c2aba64dc95",
   "metadata": {},
   "outputs": [
    {
     "name": "stderr",
     "output_type": "stream",
     "text": [
      "100%|██████████| 60/60 [00:00<00:00, 384.24it/s]\n",
      "100%|██████████| 7/7 [00:00<00:00, 385.49it/s]\n"
     ]
    }
   ],
   "source": [
    "path_to_df = '/home/sophiaf/pixel_maps_val/preprocessed_filelists/'+listname+'_df.pkl'\n",
    "path_to_test_df = '/home/sophiaf/pixel_maps_val/preprocessed_filelists/'+listname+'_df_testset.pkl'\n",
    "hi = generator.get_dataframe(data)\n",
    "hi_test = generator.get_dataframe(testdata)"
   ]
  },
  {
   "cell_type": "code",
   "execution_count": 42,
   "id": "b900c2bd-a86e-45f6-a8f3-cb63520c3419",
   "metadata": {},
   "outputs": [],
   "source": [
    "oldgenerator = DataGenerator(_files, 64, (200,200), 3)"
   ]
  },
  {
   "cell_type": "code",
   "execution_count": 44,
   "id": "4899a9fe-00ec-41bf-8e42-d081348d3756",
   "metadata": {
    "scrolled": true
   },
   "outputs": [
    {
     "name": "stdout",
     "output_type": "stream",
     "text": [
      "CPU times: user 29.7 ms, sys: 210 ms, total: 239 ms\n",
      "Wall time: 442 ms\n"
     ]
    }
   ],
   "source": [
    "%%time\n",
    "a, b = oldgenerator.__getitem__(3)"
   ]
  },
  {
   "cell_type": "code",
   "execution_count": 8,
   "id": "884ccc80-2a98-4927-8c2e-7f971a5d0bfc",
   "metadata": {},
   "outputs": [],
   "source": [
    "hi = generator.load_dataframe(path_to_df)"
   ]
  },
  {
   "cell_type": "code",
   "execution_count": 12,
   "id": "f4725b27-ebb9-4def-ad21-f20db827cad0",
   "metadata": {},
   "outputs": [],
   "source": [
    "index=0\n",
    "indexes = list(range(index * 64, (index + 1) * 64))"
   ]
  },
  {
   "cell_type": "markdown",
   "id": "477aca6c-7dd4-4e35-bb0e-5629904f6c1e",
   "metadata": {},
   "source": [
    "## Preprocess into file lists that are <4 GeV "
   ]
  },
  {
   "cell_type": "code",
   "execution_count": null,
   "id": "b759d1ee-a9ef-4818-9d48-73b9710f0090",
   "metadata": {},
   "outputs": [],
   "source": [
    "def get_data(pixel_map_dir, generator):\n",
    "    '''\n",
    "    Get pixels maps \n",
    "    '''\n",
    "    file_list_all = glob.glob(pixel_map_dir)\n",
    "    file_list = []\n",
    "\n",
    "    for f in file_list_all:\n",
    "        if generator.get_info(f)['NuPDG'] != 16 and generator.get_info(f)['NuPDG'] != -16 and generator.get_info(f)['NuEnergy'] < 4.0:\n",
    "            file_list.append(f)\n",
    "\n",
    "    random.shuffle(file_list)\n",
    "    split = int(.9*len(file_list)) # 10% for testing\n",
    "    allfiles, testfiles = file_list[:split], file_list[split:]\n",
    "    \n",
    "    return allfiles, testfiles"
   ]
  },
  {
   "cell_type": "markdown",
   "id": "a769deb3-ee1e-43a3-9daf-ff3a5a70a63d",
   "metadata": {},
   "source": [
    "I unfortunately lost this code, but the code was to run that on the whole directory, get a list, then save it as a pickle. Then I concatenated the lists using .extend() to save combined directories. "
   ]
  },
  {
   "cell_type": "code",
   "execution_count": null,
   "id": "b0718e2b-b8e6-4ecc-b6d0-232f5608d167",
   "metadata": {},
   "outputs": [],
   "source": [
    "# Essenially (here's the pseudo-code) \n",
    "_files = glob.glob(directory/*.info)\n",
    "generator = DataGenerator2(_files,64,(200,200),3)\n",
    "\n",
    "dat, testdat = get_data(_files, generator)\n",
    "pickle.save(dat, loc.pkl)\n",
    "pickle.save(testdat, loc_test.pkl) \n",
    "\n",
    "# then load them up to merge if doing this on multiple directories \n",
    "a = pickle.load(loc.pkl)\n",
    "b = pickle.load(loc2.pkl) \n",
    "c = a.extend(b)\n",
    "pickle.save(c, a_b.pkl)"
   ]
  },
  {
   "cell_type": "markdown",
   "id": "22a6d7c6-485f-4f84-a17d-ae959ec1f517",
   "metadata": {
    "jp-MarkdownHeadingCollapsed": true
   },
   "source": [
    "## Looking at df "
   ]
  },
  {
   "cell_type": "code",
   "execution_count": 42,
   "id": "b0bac683-693e-4b60-9181-100700cef022",
   "metadata": {
    "scrolled": true
   },
   "outputs": [],
   "source": [
    "listname = 'urllist_0_1_2_10_11_12'\n",
    "df = pd.read_pickle('/home/sophiaf/pixel_maps_val/preprocessed_filelists/scratch_'+listname+'_df.pkl')"
   ]
  },
  {
   "cell_type": "markdown",
   "id": "79e5c327-9b04-4487-bc1e-20561042760e",
   "metadata": {},
   "source": [
    "The Interaction codes denote the type of interaction the neutrino had with the nucleus where :\n",
    "\n",
    "-1: Neutral current (NC)\n",
    "0 : QuasiElastic (QE)\n",
    "1 : Delta-Resonance (RES)\n",
    "2 : Deep Inelastic Scattering (DIS)\n",
    "3 : Other"
   ]
  },
  {
   "cell_type": "code",
   "execution_count": 72,
   "id": "cecff470-49c5-495b-8ea4-3cf17b0acdd8",
   "metadata": {},
   "outputs": [
    {
     "data": {
      "text/plain": [
       "114627"
      ]
     },
     "execution_count": 72,
     "metadata": {},
     "output_type": "execute_result"
    }
   ],
   "source": [
    "sum(interaction_code==3)"
   ]
  },
  {
   "cell_type": "code",
   "execution_count": null,
   "id": "8bdfa254-29e9-4cfa-a756-49c4125bf9bc",
   "metadata": {},
   "outputs": [],
   "source": []
  },
  {
   "cell_type": "code",
   "execution_count": null,
   "id": "b52be77f-7241-4a2e-932c-065dd44d5957",
   "metadata": {},
   "outputs": [],
   "source": [
    "def get_interaction(df): \n",
    "    intcode = df['Interaction']\n",
    "    \n",
    "    intcode = np.where(df['flavour']==0, -1, intcode)\n",
    "    return intcode"
   ]
  },
  {
   "cell_type": "code",
   "execution_count": 49,
   "id": "317cfc76-b56d-4382-b3de-c6f18c7ec2eb",
   "metadata": {},
   "outputs": [],
   "source": [
    "interaction_code = get_interaction(df)"
   ]
  },
  {
   "cell_type": "code",
   "execution_count": 87,
   "id": "a93e7489-5ce8-42b4-ba8f-62596589a81c",
   "metadata": {},
   "outputs": [],
   "source": [
    "plt.style.use('/home/sophiaf/mystyle.mplstyle')"
   ]
  },
  {
   "cell_type": "code",
   "execution_count": 89,
   "id": "1bd6a246-f694-4e54-8f4d-cf3a3ad180a7",
   "metadata": {},
   "outputs": [
    {
     "data": {
      "image/png": "[encoded data removed]",
      "text/plain": [
       "<Figure size 720x480 with 1 Axes>"
      ]
     },
     "metadata": {},
     "output_type": "display_data"
    }
   ],
   "source": [
    "bins = plt.hist(interaction_code[df['flavour']==1], bins=np.arange(-1,5), histtype='step', label='CC $\\\\nu_e$')\n",
    "plt.hist(interaction_code[df['flavour']==2], bins=bins[1], histtype='step', label='CC $\\\\nu_\\\\mu$')\n",
    "plt.hist(interaction_code[df['flavour']==0], bins=bins[1], histtype='step', label='NC')\n",
    "plt.xticks(bins[1][1:]-0.5, ['NC', 'QE', 'RES', 'DIS', 'Other'])\n",
    "plt.legend()\n",
    "# plt.yscale('log')\n",
    "plt.xlabel('Counts')\n",
    "plt.title('Training distribution of interaction type')\n",
    "plt.savefig('model_eval_plots/interaction_type_prior_distribution.pdf')\n",
    "plt.show()"
   ]
  },
  {
   "cell_type": "code",
   "execution_count": null,
   "id": "9e447109-5e6c-4c1d-90b1-3c91efe15f3e",
   "metadata": {},
   "outputs": [],
   "source": []
  }
 ],
 "metadata": {
  "kernelspec": {
   "display_name": "Python 3 (ipykernel)",
   "language": "python",
   "name": "py3-preamble"
  },
  "language_info": {
   "codemirror_mode": {
    "name": "ipython",
    "version": 3
   },
   "file_extension": ".py",
   "mimetype": "text/x-python",
   "name": "python",
   "nbconvert_exporter": "python",
   "pygments_lexer": "ipython3",
   "version": "3.9.15"
  }
 },
 "nbformat": 4,
 "nbformat_minor": 5
}
