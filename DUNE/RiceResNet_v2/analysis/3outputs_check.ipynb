{
 "cells": [
  {
   "cell_type": "code",
   "execution_count": 2,
   "id": "d8ef0698-726c-4de1-8aec-3c656e641d69",
   "metadata": {},
   "outputs": [
    {
     "name": "stderr",
     "output_type": "stream",
     "text": [
      "2025-03-04 15:44:35.450437: I tensorflow/core/util/port.cc:153] oneDNN custom operations are on. You may see slightly different numerical results due to floating-point round-off errors from different computation orders. To turn them off, set the environment variable `TF_ENABLE_ONEDNN_OPTS=0`.\n",
      "2025-03-04 15:44:35.458005: E external/local_xla/xla/stream_executor/cuda/cuda_fft.cc:485] Unable to register cuFFT factory: Attempting to register factory for plugin cuFFT when one has already been registered\n",
      "2025-03-04 15:44:35.466052: E external/local_xla/xla/stream_executor/cuda/cuda_dnn.cc:8454] Unable to register cuDNN factory: Attempting to register factory for plugin cuDNN when one has already been registered\n",
      "2025-03-04 15:44:35.468384: E external/local_xla/xla/stream_executor/cuda/cuda_blas.cc:1452] Unable to register cuBLAS factory: Attempting to register factory for plugin cuBLAS when one has already been registered\n",
      "2025-03-04 15:44:35.475051: I tensorflow/core/platform/cpu_feature_guard.cc:210] This TensorFlow binary is optimized to use available CPU instructions in performance-critical operations.\n",
      "To enable the following instructions: AVX2 AVX_VNNI FMA, in other operations, rebuild TensorFlow with the appropriate compiler flags.\n",
      "2025-03-04 15:44:35.846172: W tensorflow/compiler/tf2tensorrt/utils/py_utils.cc:38] TF-TRT Warning: Could not find TensorRT\n"
     ]
    }
   ],
   "source": [
    "import sys\n",
    "sys.path.append('../3output_model')\n",
    "from generator_class_atmo_3output import DataGenerator_3output_train\n",
    "import pandas as pd\n",
    "import numpy as np\n",
    "import matplotlib.pylab as plt\n",
    "import tensorflow as tf"
   ]
  },
  {
   "cell_type": "code",
   "execution_count": 3,
   "id": "753310aa-5319-4d63-a4fd-f207c4749439",
   "metadata": {},
   "outputs": [],
   "source": [
    "n_channels = 3\n",
    "dimensions = (300, 300)\n",
    "params = {'batch_size': 100,'dim':dimensions, 'n_channels':n_channels}"
   ]
  },
  {
   "cell_type": "code",
   "execution_count": null,
   "id": "f9f92d29-3515-4038-b3f7-598e5ecab625",
   "metadata": {},
   "outputs": [],
   "source": []
  },
  {
   "cell_type": "code",
   "execution_count": 6,
   "id": "b84a9e59-35b0-429d-9873-2739e3b0c70f",
   "metadata": {},
   "outputs": [],
   "source": [
    "path_to_df = '../3output_model/pkl_files/test_file.pkl'\n",
    "df = pd.read_pickle(path_to_df)\n",
    "generator = DataGenerator_3output_train(df, **params)"
   ]
  },
  {
   "cell_type": "code",
   "execution_count": 7,
   "id": "b22c0b67-07c4-44b5-8dff-4e49d9bab37f",
   "metadata": {
    "scrolled": true
   },
   "outputs": [
    {
     "data": {
      "text/html": [
       "<div>\n",
       "<style scoped>\n",
       "    .dataframe tbody tr th:only-of-type {\n",
       "        vertical-align: middle;\n",
       "    }\n",
       "\n",
       "    .dataframe tbody tr th {\n",
       "        vertical-align: top;\n",
       "    }\n",
       "\n",
       "    .dataframe thead th {\n",
       "        text-align: right;\n",
       "    }\n",
       "</style>\n",
       "<table border=\"1\" class=\"dataframe\">\n",
       "  <thead>\n",
       "    <tr style=\"text-align: right;\">\n",
       "      <th></th>\n",
       "      <th>NuPDG</th>\n",
       "      <th>NuEnergy</th>\n",
       "      <th>LepEnergy</th>\n",
       "      <th>Interaction</th>\n",
       "      <th>NProton</th>\n",
       "      <th>NPion</th>\n",
       "      <th>NPizero</th>\n",
       "      <th>NNeutron</th>\n",
       "      <th>is_antineutrino</th>\n",
       "      <th>image_path</th>\n",
       "      <th>flavour</th>\n",
       "      <th>protons</th>\n",
       "      <th>pions</th>\n",
       "      <th>pizeros</th>\n",
       "      <th>neutrons</th>\n",
       "    </tr>\n",
       "  </thead>\n",
       "  <tbody>\n",
       "    <tr>\n",
       "      <th>0</th>\n",
       "      <td>1</td>\n",
       "      <td>0.515776</td>\n",
       "      <td>0.120392</td>\n",
       "      <td>1</td>\n",
       "      <td>1</td>\n",
       "      <td>0</td>\n",
       "      <td>0</td>\n",
       "      <td>1</td>\n",
       "      <td>0</td>\n",
       "      <td>/home/dirac/HEP/data/atmo_maps_v2/test/event_r...</td>\n",
       "      <td>0</td>\n",
       "      <td>1</td>\n",
       "      <td>0</td>\n",
       "      <td>0</td>\n",
       "      <td>1</td>\n",
       "    </tr>\n",
       "    <tr>\n",
       "      <th>1</th>\n",
       "      <td>-14</td>\n",
       "      <td>4.841860</td>\n",
       "      <td>2.446960</td>\n",
       "      <td>1</td>\n",
       "      <td>1</td>\n",
       "      <td>1</td>\n",
       "      <td>1</td>\n",
       "      <td>1</td>\n",
       "      <td>1</td>\n",
       "      <td>/home/dirac/HEP/data/atmo_maps_v2/test/event_r...</td>\n",
       "      <td>2</td>\n",
       "      <td>1</td>\n",
       "      <td>1</td>\n",
       "      <td>1</td>\n",
       "      <td>1</td>\n",
       "    </tr>\n",
       "    <tr>\n",
       "      <th>2</th>\n",
       "      <td>14</td>\n",
       "      <td>1.086080</td>\n",
       "      <td>0.535647</td>\n",
       "      <td>0</td>\n",
       "      <td>1</td>\n",
       "      <td>0</td>\n",
       "      <td>0</td>\n",
       "      <td>11</td>\n",
       "      <td>0</td>\n",
       "      <td>/home/dirac/HEP/data/atmo_maps_v2/test/event_r...</td>\n",
       "      <td>2</td>\n",
       "      <td>1</td>\n",
       "      <td>0</td>\n",
       "      <td>0</td>\n",
       "      <td>3</td>\n",
       "    </tr>\n",
       "    <tr>\n",
       "      <th>3</th>\n",
       "      <td>12</td>\n",
       "      <td>0.831058</td>\n",
       "      <td>0.542440</td>\n",
       "      <td>0</td>\n",
       "      <td>1</td>\n",
       "      <td>0</td>\n",
       "      <td>0</td>\n",
       "      <td>0</td>\n",
       "      <td>0</td>\n",
       "      <td>/home/dirac/HEP/data/atmo_maps_v2/test/event_r...</td>\n",
       "      <td>1</td>\n",
       "      <td>1</td>\n",
       "      <td>0</td>\n",
       "      <td>0</td>\n",
       "      <td>0</td>\n",
       "    </tr>\n",
       "    <tr>\n",
       "      <th>4</th>\n",
       "      <td>-12</td>\n",
       "      <td>1.866170</td>\n",
       "      <td>1.470890</td>\n",
       "      <td>3</td>\n",
       "      <td>1</td>\n",
       "      <td>0</td>\n",
       "      <td>0</td>\n",
       "      <td>2</td>\n",
       "      <td>1</td>\n",
       "      <td>/home/dirac/HEP/data/atmo_maps_v2/test/event_r...</td>\n",
       "      <td>1</td>\n",
       "      <td>1</td>\n",
       "      <td>0</td>\n",
       "      <td>0</td>\n",
       "      <td>2</td>\n",
       "    </tr>\n",
       "    <tr>\n",
       "      <th>...</th>\n",
       "      <td>...</td>\n",
       "      <td>...</td>\n",
       "      <td>...</td>\n",
       "      <td>...</td>\n",
       "      <td>...</td>\n",
       "      <td>...</td>\n",
       "      <td>...</td>\n",
       "      <td>...</td>\n",
       "      <td>...</td>\n",
       "      <td>...</td>\n",
       "      <td>...</td>\n",
       "      <td>...</td>\n",
       "      <td>...</td>\n",
       "      <td>...</td>\n",
       "      <td>...</td>\n",
       "    </tr>\n",
       "    <tr>\n",
       "      <th>7680</th>\n",
       "      <td>12</td>\n",
       "      <td>2.666050</td>\n",
       "      <td>0.982184</td>\n",
       "      <td>1</td>\n",
       "      <td>0</td>\n",
       "      <td>1</td>\n",
       "      <td>0</td>\n",
       "      <td>1</td>\n",
       "      <td>0</td>\n",
       "      <td>/home/dirac/HEP/data/atmo_maps_v2/test/event_r...</td>\n",
       "      <td>1</td>\n",
       "      <td>0</td>\n",
       "      <td>1</td>\n",
       "      <td>0</td>\n",
       "      <td>1</td>\n",
       "    </tr>\n",
       "    <tr>\n",
       "      <th>7681</th>\n",
       "      <td>12</td>\n",
       "      <td>11.497800</td>\n",
       "      <td>2.292140</td>\n",
       "      <td>2</td>\n",
       "      <td>3</td>\n",
       "      <td>3</td>\n",
       "      <td>2</td>\n",
       "      <td>3</td>\n",
       "      <td>0</td>\n",
       "      <td>/home/dirac/HEP/data/atmo_maps_v2/test/event_r...</td>\n",
       "      <td>1</td>\n",
       "      <td>3</td>\n",
       "      <td>3</td>\n",
       "      <td>2</td>\n",
       "      <td>3</td>\n",
       "    </tr>\n",
       "    <tr>\n",
       "      <th>7682</th>\n",
       "      <td>14</td>\n",
       "      <td>0.305903</td>\n",
       "      <td>0.215543</td>\n",
       "      <td>0</td>\n",
       "      <td>0</td>\n",
       "      <td>0</td>\n",
       "      <td>0</td>\n",
       "      <td>7</td>\n",
       "      <td>0</td>\n",
       "      <td>/home/dirac/HEP/data/atmo_maps_v2/test/event_r...</td>\n",
       "      <td>2</td>\n",
       "      <td>0</td>\n",
       "      <td>0</td>\n",
       "      <td>0</td>\n",
       "      <td>3</td>\n",
       "    </tr>\n",
       "    <tr>\n",
       "      <th>7683</th>\n",
       "      <td>1</td>\n",
       "      <td>0.394768</td>\n",
       "      <td>0.059068</td>\n",
       "      <td>1</td>\n",
       "      <td>0</td>\n",
       "      <td>0</td>\n",
       "      <td>0</td>\n",
       "      <td>7</td>\n",
       "      <td>0</td>\n",
       "      <td>/home/dirac/HEP/data/atmo_maps_v2/test/event_r...</td>\n",
       "      <td>0</td>\n",
       "      <td>0</td>\n",
       "      <td>0</td>\n",
       "      <td>0</td>\n",
       "      <td>3</td>\n",
       "    </tr>\n",
       "    <tr>\n",
       "      <th>7684</th>\n",
       "      <td>-12</td>\n",
       "      <td>0.208904</td>\n",
       "      <td>0.115273</td>\n",
       "      <td>0</td>\n",
       "      <td>0</td>\n",
       "      <td>0</td>\n",
       "      <td>0</td>\n",
       "      <td>1</td>\n",
       "      <td>1</td>\n",
       "      <td>/home/dirac/HEP/data/atmo_maps_v2/test/event_r...</td>\n",
       "      <td>1</td>\n",
       "      <td>0</td>\n",
       "      <td>0</td>\n",
       "      <td>0</td>\n",
       "      <td>1</td>\n",
       "    </tr>\n",
       "  </tbody>\n",
       "</table>\n",
       "<p>7685 rows × 15 columns</p>\n",
       "</div>"
      ],
      "text/plain": [
       "      NuPDG   NuEnergy  LepEnergy  Interaction  NProton  NPion  NPizero  \\\n",
       "0         1   0.515776   0.120392            1        1      0        0   \n",
       "1       -14   4.841860   2.446960            1        1      1        1   \n",
       "2        14   1.086080   0.535647            0        1      0        0   \n",
       "3        12   0.831058   0.542440            0        1      0        0   \n",
       "4       -12   1.866170   1.470890            3        1      0        0   \n",
       "...     ...        ...        ...          ...      ...    ...      ...   \n",
       "7680     12   2.666050   0.982184            1        0      1        0   \n",
       "7681     12  11.497800   2.292140            2        3      3        2   \n",
       "7682     14   0.305903   0.215543            0        0      0        0   \n",
       "7683      1   0.394768   0.059068            1        0      0        0   \n",
       "7684    -12   0.208904   0.115273            0        0      0        0   \n",
       "\n",
       "      NNeutron  is_antineutrino  \\\n",
       "0            1                0   \n",
       "1            1                1   \n",
       "2           11                0   \n",
       "3            0                0   \n",
       "4            2                1   \n",
       "...        ...              ...   \n",
       "7680         1                0   \n",
       "7681         3                0   \n",
       "7682         7                0   \n",
       "7683         7                0   \n",
       "7684         1                1   \n",
       "\n",
       "                                             image_path  flavour  protons  \\\n",
       "0     /home/dirac/HEP/data/atmo_maps_v2/test/event_r...        0        1   \n",
       "1     /home/dirac/HEP/data/atmo_maps_v2/test/event_r...        2        1   \n",
       "2     /home/dirac/HEP/data/atmo_maps_v2/test/event_r...        2        1   \n",
       "3     /home/dirac/HEP/data/atmo_maps_v2/test/event_r...        1        1   \n",
       "4     /home/dirac/HEP/data/atmo_maps_v2/test/event_r...        1        1   \n",
       "...                                                 ...      ...      ...   \n",
       "7680  /home/dirac/HEP/data/atmo_maps_v2/test/event_r...        1        0   \n",
       "7681  /home/dirac/HEP/data/atmo_maps_v2/test/event_r...        1        3   \n",
       "7682  /home/dirac/HEP/data/atmo_maps_v2/test/event_r...        2        0   \n",
       "7683  /home/dirac/HEP/data/atmo_maps_v2/test/event_r...        0        0   \n",
       "7684  /home/dirac/HEP/data/atmo_maps_v2/test/event_r...        1        0   \n",
       "\n",
       "      pions  pizeros  neutrons  \n",
       "0         0        0         1  \n",
       "1         1        1         1  \n",
       "2         0        0         3  \n",
       "3         0        0         0  \n",
       "4         0        0         2  \n",
       "...     ...      ...       ...  \n",
       "7680      1        0         1  \n",
       "7681      3        2         3  \n",
       "7682      0        0         3  \n",
       "7683      0        0         3  \n",
       "7684      0        0         1  \n",
       "\n",
       "[7685 rows x 15 columns]"
      ]
     },
     "execution_count": 7,
     "metadata": {},
     "output_type": "execute_result"
    }
   ],
   "source": [
    "df"
   ]
  },
  {
   "cell_type": "code",
   "execution_count": 8,
   "id": "5014fc1f-c027-42a9-b968-ab6a6969e75b",
   "metadata": {},
   "outputs": [
    {
     "data": {
      "text/plain": [
       "19.9836"
      ]
     },
     "execution_count": 8,
     "metadata": {},
     "output_type": "execute_result"
    }
   ],
   "source": [
    "df['NuEnergy'].max()"
   ]
  },
  {
   "cell_type": "code",
   "execution_count": 9,
   "id": "6ec25b0c-cd0b-4d6f-900f-a46442992a0c",
   "metadata": {},
   "outputs": [],
   "source": [
    "maps, label = generator.get_data_and_labels([0,1,2])"
   ]
  },
  {
   "cell_type": "code",
   "execution_count": 18,
   "id": "75ea7280-d7f3-4fd7-a8aa-e6bf0f77c170",
   "metadata": {},
   "outputs": [
    {
     "data": {
      "text/plain": [
       "(3, 300, 300)"
      ]
     },
     "execution_count": 18,
     "metadata": {},
     "output_type": "execute_result"
    }
   ],
   "source": [
    "maps[0].shape"
   ]
  },
  {
   "cell_type": "code",
   "execution_count": 10,
   "id": "27db1fd9-3057-417d-980a-3ad7ed11e93f",
   "metadata": {},
   "outputs": [],
   "source": [
    "def plot_image(pixel_maps):\n",
    "    fig, axs = plt.subplots(1, 3, figsize=(15, 4))\n",
    "    fig.suptitle('Pixel Maps')        \n",
    "    titles = ['U', 'V', 'Z']\n",
    "    data_masked = np.ma.masked_where(pixel_maps == 0, pixel_maps)\n",
    "    for i in range(3):\n",
    "        #maps = np.swapaxes(data_masked[i], 0, 1)\n",
    "        maps = data_masked[i]  # Directly assign without swapping axes\n",
    "        axs[i].imshow(maps, interpolation='none', cmap = 'plasma', aspect='auto',  vmin = 0)\n",
    "        axs[i].set_xlabel('Wire')\n",
    "        axs[i].set_ylabel('TDC')\n",
    "        axs[i].invert_yaxis()\n",
    "\n",
    "        axs[i].title.set_text(titles[i])\n",
    "    plt.show()"
   ]
  },
  {
   "cell_type": "code",
   "execution_count": 16,
   "id": "d48e3368-4e76-4030-9a9e-289ceed5d1b9",
   "metadata": {},
   "outputs": [
    {
     "data": {
      "image/png": "[encoded data removed]",
      "text/plain": [
       "<Figure size 1500x400 with 3 Axes>"
      ]
     },
     "metadata": {},
     "output_type": "display_data"
    }
   ],
   "source": [
    "plot_image(maps[2])"
   ]
  },
  {
   "cell_type": "code",
   "execution_count": 12,
   "id": "05e4eb21-41f1-4836-a8e1-d49c8f7fa170",
   "metadata": {
    "scrolled": true
   },
   "outputs": [
    {
     "name": "stderr",
     "output_type": "stream",
     "text": [
      "WARNING: All log messages before absl::InitializeLog() is called are written to STDERR\n",
      "I0000 00:00:1741124734.136204 3875728 cuda_executor.cc:1015] successful NUMA node read from SysFS had negative value (-1), but there must be at least one NUMA node, so returning NUMA node zero. See more at https://github.com/torvalds/linux/blob/v6.0/Documentation/ABI/testing/sysfs-bus-pci#L344-L355\n",
      "I0000 00:00:1741124734.154668 3875728 cuda_executor.cc:1015] successful NUMA node read from SysFS had negative value (-1), but there must be at least one NUMA node, so returning NUMA node zero. See more at https://github.com/torvalds/linux/blob/v6.0/Documentation/ABI/testing/sysfs-bus-pci#L344-L355\n",
      "I0000 00:00:1741124734.154771 3875728 cuda_executor.cc:1015] successful NUMA node read from SysFS had negative value (-1), but there must be at least one NUMA node, so returning NUMA node zero. See more at https://github.com/torvalds/linux/blob/v6.0/Documentation/ABI/testing/sysfs-bus-pci#L344-L355\n",
      "I0000 00:00:1741124734.156366 3875728 cuda_executor.cc:1015] successful NUMA node read from SysFS had negative value (-1), but there must be at least one NUMA node, so returning NUMA node zero. See more at https://github.com/torvalds/linux/blob/v6.0/Documentation/ABI/testing/sysfs-bus-pci#L344-L355\n",
      "I0000 00:00:1741124734.156443 3875728 cuda_executor.cc:1015] successful NUMA node read from SysFS had negative value (-1), but there must be at least one NUMA node, so returning NUMA node zero. See more at https://github.com/torvalds/linux/blob/v6.0/Documentation/ABI/testing/sysfs-bus-pci#L344-L355\n",
      "I0000 00:00:1741124734.156481 3875728 cuda_executor.cc:1015] successful NUMA node read from SysFS had negative value (-1), but there must be at least one NUMA node, so returning NUMA node zero. See more at https://github.com/torvalds/linux/blob/v6.0/Documentation/ABI/testing/sysfs-bus-pci#L344-L355\n",
      "I0000 00:00:1741124734.221559 3875728 cuda_executor.cc:1015] successful NUMA node read from SysFS had negative value (-1), but there must be at least one NUMA node, so returning NUMA node zero. See more at https://github.com/torvalds/linux/blob/v6.0/Documentation/ABI/testing/sysfs-bus-pci#L344-L355\n",
      "I0000 00:00:1741124734.221653 3875728 cuda_executor.cc:1015] successful NUMA node read from SysFS had negative value (-1), but there must be at least one NUMA node, so returning NUMA node zero. See more at https://github.com/torvalds/linux/blob/v6.0/Documentation/ABI/testing/sysfs-bus-pci#L344-L355\n",
      "I0000 00:00:1741124734.221709 3875728 cuda_executor.cc:1015] successful NUMA node read from SysFS had negative value (-1), but there must be at least one NUMA node, so returning NUMA node zero. See more at https://github.com/torvalds/linux/blob/v6.0/Documentation/ABI/testing/sysfs-bus-pci#L344-L355\n",
      "2025-03-04 15:45:34.221754: I tensorflow/core/common_runtime/gpu/gpu_device.cc:2021] Created device /job:localhost/replica:0/task:0/device:GPU:0 with 21899 MB memory:  -> device: 0, name: NVIDIA GeForce RTX 4090, pci bus id: 0000:01:00.0, compute capability: 8.9\n"
     ]
    },
    {
     "data": {
      "text/html": [
       "<pre style=\"white-space:pre;overflow-x:auto;line-height:normal;font-family:Menlo,'DejaVu Sans Mono',consolas,'Courier New',monospace\"><span style=\"font-weight: bold\">Model: \"functional\"</span>\n",
       "</pre>\n"
      ],
      "text/plain": [
       "\u001b[1mModel: \"functional\"\u001b[0m\n"
      ]
     },
     "metadata": {},
     "output_type": "display_data"
    },
    {
     "data": {
      "text/html": [
       "<pre style=\"white-space:pre;overflow-x:auto;line-height:normal;font-family:Menlo,'DejaVu Sans Mono',consolas,'Courier New',monospace\">┏━━━━━━━━━━━━━━━━━━━━━━━━━━━━━━━━━┳━━━━━━━━━━━━━━━━━━━━━━━━┳━━━━━━━━━━━━━━━┓\n",
       "┃<span style=\"font-weight: bold\"> Layer (type)                    </span>┃<span style=\"font-weight: bold\"> Output Shape           </span>┃<span style=\"font-weight: bold\">       Param # </span>┃\n",
       "┡━━━━━━━━━━━━━━━━━━━━━━━━━━━━━━━━━╇━━━━━━━━━━━━━━━━━━━━━━━━╇━━━━━━━━━━━━━━━┩\n",
       "│ input_layer (<span style=\"color: #0087ff; text-decoration-color: #0087ff\">InputLayer</span>)        │ (<span style=\"color: #00d7ff; text-decoration-color: #00d7ff\">None</span>, <span style=\"color: #00af00; text-decoration-color: #00af00\">300</span>, <span style=\"color: #00af00; text-decoration-color: #00af00\">300</span>, <span style=\"color: #00af00; text-decoration-color: #00af00\">3</span>)    │             <span style=\"color: #00af00; text-decoration-color: #00af00\">0</span> │\n",
       "├─────────────────────────────────┼────────────────────────┼───────────────┤\n",
       "│ tfsm_layer (<span style=\"color: #0087ff; text-decoration-color: #0087ff\">TFSMLayer</span>)          │ [(<span style=\"color: #00d7ff; text-decoration-color: #00d7ff\">None</span>, <span style=\"color: #00af00; text-decoration-color: #00af00\">3</span>), (<span style=\"color: #00d7ff; text-decoration-color: #00d7ff\">None</span>, <span style=\"color: #00af00; text-decoration-color: #00af00\">4</span>), │     <span style=\"color: #00af00; text-decoration-color: #00af00\">4,982,912</span> │\n",
       "│                                 │ (<span style=\"color: #00d7ff; text-decoration-color: #00d7ff\">None</span>, <span style=\"color: #00af00; text-decoration-color: #00af00\">2</span>)]             │               │\n",
       "└─────────────────────────────────┴────────────────────────┴───────────────┘\n",
       "</pre>\n"
      ],
      "text/plain": [
       "┏━━━━━━━━━━━━━━━━━━━━━━━━━━━━━━━━━┳━━━━━━━━━━━━━━━━━━━━━━━━┳━━━━━━━━━━━━━━━┓\n",
       "┃\u001b[1m \u001b[0m\u001b[1mLayer (type)                   \u001b[0m\u001b[1m \u001b[0m┃\u001b[1m \u001b[0m\u001b[1mOutput Shape          \u001b[0m\u001b[1m \u001b[0m┃\u001b[1m \u001b[0m\u001b[1m      Param #\u001b[0m\u001b[1m \u001b[0m┃\n",
       "┡━━━━━━━━━━━━━━━━━━━━━━━━━━━━━━━━━╇━━━━━━━━━━━━━━━━━━━━━━━━╇━━━━━━━━━━━━━━━┩\n",
       "│ input_layer (\u001b[38;5;33mInputLayer\u001b[0m)        │ (\u001b[38;5;45mNone\u001b[0m, \u001b[38;5;34m300\u001b[0m, \u001b[38;5;34m300\u001b[0m, \u001b[38;5;34m3\u001b[0m)    │             \u001b[38;5;34m0\u001b[0m │\n",
       "├─────────────────────────────────┼────────────────────────┼───────────────┤\n",
       "│ tfsm_layer (\u001b[38;5;33mTFSMLayer\u001b[0m)          │ [(\u001b[38;5;45mNone\u001b[0m, \u001b[38;5;34m3\u001b[0m), (\u001b[38;5;45mNone\u001b[0m, \u001b[38;5;34m4\u001b[0m), │     \u001b[38;5;34m4,982,912\u001b[0m │\n",
       "│                                 │ (\u001b[38;5;45mNone\u001b[0m, \u001b[38;5;34m2\u001b[0m)]             │               │\n",
       "└─────────────────────────────────┴────────────────────────┴───────────────┘\n"
      ]
     },
     "metadata": {},
     "output_type": "display_data"
    },
    {
     "data": {
      "text/html": [
       "<pre style=\"white-space:pre;overflow-x:auto;line-height:normal;font-family:Menlo,'DejaVu Sans Mono',consolas,'Courier New',monospace\"><span style=\"font-weight: bold\"> Total params: </span><span style=\"color: #00af00; text-decoration-color: #00af00\">4,982,912</span> (19.01 MB)\n",
       "</pre>\n"
      ],
      "text/plain": [
       "\u001b[1m Total params: \u001b[0m\u001b[38;5;34m4,982,912\u001b[0m (19.01 MB)\n"
      ]
     },
     "metadata": {},
     "output_type": "display_data"
    },
    {
     "data": {
      "text/html": [
       "<pre style=\"white-space:pre;overflow-x:auto;line-height:normal;font-family:Menlo,'DejaVu Sans Mono',consolas,'Courier New',monospace\"><span style=\"font-weight: bold\"> Trainable params: </span><span style=\"color: #00af00; text-decoration-color: #00af00\">4,978,880</span> (18.99 MB)\n",
       "</pre>\n"
      ],
      "text/plain": [
       "\u001b[1m Trainable params: \u001b[0m\u001b[38;5;34m4,978,880\u001b[0m (18.99 MB)\n"
      ]
     },
     "metadata": {},
     "output_type": "display_data"
    },
    {
     "data": {
      "text/html": [
       "<pre style=\"white-space:pre;overflow-x:auto;line-height:normal;font-family:Menlo,'DejaVu Sans Mono',consolas,'Courier New',monospace\"><span style=\"font-weight: bold\"> Non-trainable params: </span><span style=\"color: #00af00; text-decoration-color: #00af00\">4,032</span> (15.75 KB)\n",
       "</pre>\n"
      ],
      "text/plain": [
       "\u001b[1m Non-trainable params: \u001b[0m\u001b[38;5;34m4,032\u001b[0m (15.75 KB)\n"
      ]
     },
     "metadata": {},
     "output_type": "display_data"
    }
   ],
   "source": [
    "path_to_saved_model = \"../3output_model/saved_model/3outputs_test/\"\n",
    "layer = tf.keras.layers.TFSMLayer(path_to_saved_model, call_endpoint='serving_default')\n",
    "input_layer = tf.keras.Input(shape = (300,300, 3)) # e.g. (224, 224, 3)\n",
    "outputs = layer(input_layer)\n",
    "model = tf.keras.Model(input_layer, outputs)\n",
    "model.summary()"
   ]
  },
  {
   "cell_type": "code",
   "execution_count": 13,
   "id": "97862ef0-0f70-4fc6-b1a5-7ece0f91e5bc",
   "metadata": {
    "scrolled": true
   },
   "outputs": [],
   "source": [
    "test1 = np.transpose(maps[2], (1, 2, 0))"
   ]
  },
  {
   "cell_type": "code",
   "execution_count": 14,
   "id": "25294fb6-a2c6-46e3-a4b9-26a7ee754e3a",
   "metadata": {},
   "outputs": [
    {
     "name": "stderr",
     "output_type": "stream",
     "text": [
      "WARNING: All log messages before absl::InitializeLog() is called are written to STDERR\n",
      "I0000 00:00:1741124739.093851 3897770 service.cc:146] XLA service 0x7f6e8c006350 initialized for platform CUDA (this does not guarantee that XLA will be used). Devices:\n",
      "I0000 00:00:1741124739.093877 3897770 service.cc:154]   StreamExecutor device (0): NVIDIA GeForce RTX 4090, Compute Capability 8.9\n",
      "2025-03-04 15:45:39.103788: I tensorflow/compiler/mlir/tensorflow/utils/dump_mlir_util.cc:268] disabling MLIR crash reproducer, set env var `MLIR_CRASH_REPRODUCER_DIRECTORY` to enable.\n",
      "2025-03-04 15:45:39.155776: I external/local_xla/xla/stream_executor/cuda/cuda_dnn.cc:531] Loaded cuDNN version 8907\n"
     ]
    },
    {
     "name": "stdout",
     "output_type": "stream",
     "text": [
      "\u001b[1m1/1\u001b[0m \u001b[32m━━━━━━━━━━━━━━━━━━━━\u001b[0m\u001b[37m\u001b[0m \u001b[1m1s\u001b[0m 729ms/step\n",
      "{'output_2': array([[0.6262234 , 0.37377656]], dtype=float32), 'output_1': array([[0.24819829, 0.5375659 , 0.14040436, 0.07383154]], dtype=float32), 'output_0': array([[0.14271645, 0.00666397, 0.85061955]], dtype=float32)}\n"
     ]
    },
    {
     "name": "stderr",
     "output_type": "stream",
     "text": [
      "I0000 00:00:1741124739.727501 3897770 device_compiler.h:188] Compiled cluster using XLA!  This line is logged at most once for the lifetime of the process.\n"
     ]
    }
   ],
   "source": [
    "print(model.predict(np.expand_dims(test1,axis=0)))"
   ]
  },
  {
   "cell_type": "code",
   "execution_count": 15,
   "id": "dbf9256b-9504-4c99-91d2-942cbc640bb5",
   "metadata": {},
   "outputs": [
    {
     "data": {
      "text/html": [
       "<div>\n",
       "<style scoped>\n",
       "    .dataframe tbody tr th:only-of-type {\n",
       "        vertical-align: middle;\n",
       "    }\n",
       "\n",
       "    .dataframe tbody tr th {\n",
       "        vertical-align: top;\n",
       "    }\n",
       "\n",
       "    .dataframe thead th {\n",
       "        text-align: right;\n",
       "    }\n",
       "</style>\n",
       "<table border=\"1\" class=\"dataframe\">\n",
       "  <thead>\n",
       "    <tr style=\"text-align: right;\">\n",
       "      <th></th>\n",
       "      <th>flavour</th>\n",
       "      <th>protons</th>\n",
       "      <th>pions</th>\n",
       "    </tr>\n",
       "  </thead>\n",
       "  <tbody>\n",
       "    <tr>\n",
       "      <th>0</th>\n",
       "      <td>0</td>\n",
       "      <td>1</td>\n",
       "      <td>0</td>\n",
       "    </tr>\n",
       "    <tr>\n",
       "      <th>1</th>\n",
       "      <td>2</td>\n",
       "      <td>1</td>\n",
       "      <td>1</td>\n",
       "    </tr>\n",
       "    <tr>\n",
       "      <th>2</th>\n",
       "      <td>2</td>\n",
       "      <td>1</td>\n",
       "      <td>0</td>\n",
       "    </tr>\n",
       "  </tbody>\n",
       "</table>\n",
       "</div>"
      ],
      "text/plain": [
       "   flavour  protons  pions\n",
       "0        0        1      0\n",
       "1        2        1      1\n",
       "2        2        1      0"
      ]
     },
     "execution_count": 15,
     "metadata": {},
     "output_type": "execute_result"
    }
   ],
   "source": [
    "label"
   ]
  },
  {
   "cell_type": "code",
   "execution_count": null,
   "id": "d1c21a8a-3800-4106-99f3-84b493f39ec9",
   "metadata": {},
   "outputs": [],
   "source": []
  }
 ],
 "metadata": {
  "kernelspec": {
   "display_name": "Python 3 (ipykernel)",
   "language": "python",
   "name": "python3"
  },
  "language_info": {
   "codemirror_mode": {
    "name": "ipython",
    "version": 3
   },
   "file_extension": ".py",
   "mimetype": "text/x-python",
   "name": "python",
   "nbconvert_exporter": "python",
   "pygments_lexer": "ipython3",
   "version": "3.12.5"
  }
 },
 "nbformat": 4,
 "nbformat_minor": 5
}
